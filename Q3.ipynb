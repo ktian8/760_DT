{
 "cells": [
  {
   "cell_type": "code",
   "execution_count": 418,
   "metadata": {},
   "outputs": [],
   "source": [
    "import csv\n",
    "import numpy as np"
   ]
  },
  {
   "cell_type": "code",
   "execution_count": 419,
   "metadata": {},
   "outputs": [],
   "source": [
    "filename = \"Druns.txt\""
   ]
  },
  {
   "cell_type": "code",
   "execution_count": 420,
   "metadata": {},
   "outputs": [],
   "source": [
    "data = []\n",
    "with open(filename, 'r') as file:\n",
    "    reader = csv.reader(file, delimiter=' ')\n",
    "    for row in reader:\n",
    "        data.append([float(value) for value in row])"
   ]
  },
  {
   "cell_type": "code",
   "execution_count": 421,
   "metadata": {},
   "outputs": [],
   "source": [
    "data = np.array(data)"
   ]
  },
  {
   "cell_type": "code",
   "execution_count": 422,
   "metadata": {},
   "outputs": [],
   "source": [
    "def CalculateEntropy(data_label):\n",
    "    _, counts = np.unique(data_label, return_counts=True)\n",
    "    prob = counts/len(data_label)\n",
    "    entropy = -np.sum(prob * np.log2(prob))\n",
    "    return entropy"
   ]
  },
  {
   "cell_type": "code",
   "execution_count": 423,
   "metadata": {},
   "outputs": [],
   "source": [
    "def splitEntropy(data,split,col):\n",
    "    subgroup1 = data[data[:, col] < split]  \n",
    "    subgroup2 = data[data[:, col] >= split] \n",
    "    proportion1 = subgroup1.shape[0]/data.shape[0]\n",
    "    proportion2 = subgroup2.shape[0]/data.shape[0]\n",
    "    entropy_split = - proportion1* np.log2(proportion1) - proportion2 * np.log2(proportion2)\n",
    "    return entropy_split"
   ]
  },
  {
   "cell_type": "code",
   "execution_count": 424,
   "metadata": {},
   "outputs": [],
   "source": [
    "def InfoGain(data,split,col):\n",
    "    entropy_beforesplit = CalculateEntropy(data[:,2])\n",
    "    subgroup1 = data[data[:, col] < split]  \n",
    "    subgroup2 = data[data[:, col] >= split] \n",
    "    # print(split)\n",
    "    # print(subgroup1)\n",
    "    # print(subgroup2) \n",
    "    proportion1 = subgroup1.shape[0]/data.shape[0]\n",
    "    proportion2 = subgroup2.shape[0]/data.shape[0]\n",
    "    entropy_subgroup1 = CalculateEntropy(subgroup1[:,2])\n",
    "    entropy_subgroup2 = CalculateEntropy(subgroup2[:,2])\n",
    "    entropy_aftersplit = proportion1*entropy_subgroup1 + proportion2*entropy_subgroup2\n",
    "    infogain = entropy_beforesplit - entropy_aftersplit\n",
    "    return infogain"
   ]
  },
  {
   "cell_type": "code",
   "execution_count": 425,
   "metadata": {},
   "outputs": [],
   "source": [
    "def GainRatio(data,split,col):\n",
    "    infogain = InfoGain(data,split,col)\n",
    "    entropy_split = splitEntropy(data,split,col)\n",
    "    gainratio = infogain/entropy_split\n",
    "    return gainratio"
   ]
  },
  {
   "cell_type": "code",
   "execution_count": 426,
   "metadata": {},
   "outputs": [],
   "source": [
    "def DetermineCandidateSplits(data,col):\n",
    "    C = []\n",
    "    sorted_indices = np.argsort(data[:, col])\n",
    "    sorted_data = data[sorted_indices]\n",
    "    print(sorted_data)\n",
    "    for i in range(len(sorted_data)-1):\n",
    "        if sorted_data[i,2] != sorted_data[i+1,2]:\n",
    "            infogain = InfoGain(sorted_data,sorted_data[i+1,col],col)\n",
    "            # print(sorted_data[i+1,col],infogain)\n",
    "            if infogain > 0:\n",
    "                gainratio = GainRatio(sorted_data,sorted_data[i+1,col],col)\n",
    "                gainratio = np.round(gainratio,4)\n",
    "                print(f\"For column {col} with cut {sorted_data[i+1,col]}: Gain Ratio = {gainratio}\" )\n",
    "                C.append(sorted_data[i+1,col])\n",
    "            else:\n",
    "                print(f\"For column {col} with cut {sorted_data[i+1,col]}: Informatio gain = {infogain}, so this cut is skipped.\" )\n",
    "    return C"
   ]
  },
  {
   "cell_type": "code",
   "execution_count": 427,
   "metadata": {},
   "outputs": [
    {
     "name": "stdout",
     "output_type": "stream",
     "text": [
      "[[ 0.  -1.   1. ]\n",
      " [ 0.   0.   0. ]\n",
      " [ 0.   1.   0. ]\n",
      " [ 0.   2.   0. ]\n",
      " [ 0.   3.   0. ]\n",
      " [ 0.   4.   0. ]\n",
      " [ 0.   5.   0. ]\n",
      " [ 0.   6.   1. ]\n",
      " [ 0.   7.   0. ]\n",
      " [ 0.   8.   1. ]\n",
      " [ 0.1 -2.   0. ]]\n",
      "For column 0 with cut 0.0: Informatio gain = 0.0, so this cut is skipped.\n",
      "For column 0 with cut 0.0: Informatio gain = 0.0, so this cut is skipped.\n",
      "For column 0 with cut 0.0: Informatio gain = 0.0, so this cut is skipped.\n",
      "For column 0 with cut 0.0: Informatio gain = 0.0, so this cut is skipped.\n",
      "For column 0 with cut 0.1: Gain Ratio = 0.1005\n",
      "[[ 0.1 -2.   0. ]\n",
      " [ 0.  -1.   1. ]\n",
      " [ 0.   0.   0. ]\n",
      " [ 0.   1.   0. ]\n",
      " [ 0.   2.   0. ]\n",
      " [ 0.   3.   0. ]\n",
      " [ 0.   4.   0. ]\n",
      " [ 0.   5.   0. ]\n",
      " [ 0.   6.   1. ]\n",
      " [ 0.   7.   0. ]\n",
      " [ 0.   8.   1. ]]\n",
      "For column 1 with cut -1.0: Gain Ratio = 0.1005\n",
      "For column 1 with cut 0.0: Gain Ratio = 0.056\n",
      "For column 1 with cut 6.0: Gain Ratio = 0.2361\n",
      "For column 1 with cut 7.0: Gain Ratio = 0.056\n",
      "For column 1 with cut 8.0: Gain Ratio = 0.4302\n"
     ]
    }
   ],
   "source": [
    "C_1 = DetermineCandidateSplits(data,0)\n",
    "C_2 = DetermineCandidateSplits(data,1)"
   ]
  }
 ],
 "metadata": {
  "kernelspec": {
   "display_name": "Python 3",
   "language": "python",
   "name": "python3"
  },
  "language_info": {
   "codemirror_mode": {
    "name": "ipython",
    "version": 3
   },
   "file_extension": ".py",
   "mimetype": "text/x-python",
   "name": "python",
   "nbconvert_exporter": "python",
   "pygments_lexer": "ipython3",
   "version": "3.9.13"
  },
  "orig_nbformat": 4
 },
 "nbformat": 4,
 "nbformat_minor": 2
}
