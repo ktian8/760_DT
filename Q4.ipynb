{
 "cells": [
  {
   "cell_type": "code",
   "execution_count": 192,
   "metadata": {},
   "outputs": [],
   "source": [
    "import csv\n",
    "import numpy as np\n",
    "import matplotlib.pyplot as plt\n",
    "import networkx as nx"
   ]
  },
  {
   "cell_type": "code",
   "execution_count": 193,
   "metadata": {},
   "outputs": [],
   "source": [
    "class TreeNode:\n",
    "    def __init__(self):\n",
    "        self.split_value = None  # Value to split on\n",
    "        self.split_column = None  # Column index to split on\n",
    "        self.left = None  # Left child node (TreeNode)\n",
    "        self.right = None  # Right child node (TreeNode)\n",
    "        self.is_leaf = False  # Indicator if this node is a leaf\n",
    "        self.label = None  # Class label if this node is a leaf"
   ]
  },
  {
   "cell_type": "code",
   "execution_count": 194,
   "metadata": {},
   "outputs": [],
   "source": [
    "filename = \"D3leaves.txt\""
   ]
  },
  {
   "cell_type": "code",
   "execution_count": 195,
   "metadata": {},
   "outputs": [],
   "source": [
    "data = []\n",
    "with open(filename, 'r') as file:\n",
    "    reader = csv.reader(file, delimiter=' ')\n",
    "    for row in reader:\n",
    "        data.append([float(value) for value in row])"
   ]
  },
  {
   "cell_type": "code",
   "execution_count": 196,
   "metadata": {},
   "outputs": [
    {
     "name": "stdout",
     "output_type": "stream",
     "text": [
      "[[10.  1.  1.]\n",
      " [10.  2.  1.]\n",
      " [10.  3.  1.]\n",
      " [ 1.  1.  0.]\n",
      " [ 1.  3.  1.]]\n"
     ]
    }
   ],
   "source": [
    "data = np.array(data)\n",
    "print(data)"
   ]
  },
  {
   "cell_type": "code",
   "execution_count": 197,
   "metadata": {},
   "outputs": [],
   "source": [
    "def CalculateEntropy(data_label):\n",
    "    _, counts = np.unique(data_label, return_counts=True)\n",
    "    prob = counts/len(data_label)\n",
    "    entropy = -np.sum(prob * np.log2(prob))\n",
    "    return entropy"
   ]
  },
  {
   "cell_type": "code",
   "execution_count": 198,
   "metadata": {},
   "outputs": [],
   "source": [
    "def splitEntropy(D,split,col):\n",
    "    subgroup1 = D[D[:, col] < split]  \n",
    "    subgroup2 = D[D[:, col] >= split] \n",
    "    proportion1 = subgroup1.shape[0]/D.shape[0]\n",
    "    proportion2 = subgroup2.shape[0]/D.shape[0]\n",
    "    entropy_split = 0\n",
    "    if proportion1 > 0:  # This will ensure log(0) is not calculated.\n",
    "        entropy_split -= proportion1 * np.log2(proportion1)\n",
    "    if proportion2 > 0:\n",
    "        entropy_split -= proportion2 * np.log2(proportion2)\n",
    "    # print(proportion1,proportion2,entropy_split)\n",
    "    return entropy_split"
   ]
  },
  {
   "cell_type": "code",
   "execution_count": 199,
   "metadata": {},
   "outputs": [],
   "source": [
    "def InfoGain(D,split,col):\n",
    "    entropy_beforesplit = CalculateEntropy(D[:,2])\n",
    "    subgroup1 = D[D[:, col] < split]  \n",
    "    subgroup2 = D[D[:, col] >= split] \n",
    "    # print(split)\n",
    "    # print(subgroup1)\n",
    "    # print(subgroup2) \n",
    "    proportion1 = subgroup1.shape[0]/D.shape[0]\n",
    "    proportion2 = subgroup2.shape[0]/D.shape[0]\n",
    "    entropy_subgroup1 = CalculateEntropy(subgroup1[:,2])\n",
    "    entropy_subgroup2 = CalculateEntropy(subgroup2[:,2])\n",
    "    entropy_aftersplit = proportion1*entropy_subgroup1 + proportion2*entropy_subgroup2\n",
    "    infogain = entropy_beforesplit - entropy_aftersplit\n",
    "    return infogain"
   ]
  },
  {
   "cell_type": "code",
   "execution_count": 200,
   "metadata": {},
   "outputs": [],
   "source": [
    "def GainRatio(D,split,col):\n",
    "    infogain = InfoGain(D,split,col)\n",
    "    entropy_split = splitEntropy(D,split,col)\n",
    "    if entropy_split == 0:\n",
    "        print(col,split)\n",
    "    gainratio = infogain/entropy_split\n",
    "    return gainratio"
   ]
  },
  {
   "cell_type": "code",
   "execution_count": 201,
   "metadata": {},
   "outputs": [],
   "source": [
    "def DetermineCandidateSplits(D,col_num):\n",
    "    C = []\n",
    "    # print(\"at this time, D is \\n\", D)\n",
    "    for col in range(col_num):\n",
    "        sorted_indices = np.argsort(D[:, col])\n",
    "        sorted_data = D[sorted_indices]\n",
    "        # print(\"at col\", col, \"the sorted data is \\n\", sorted_data)\n",
    "        for i in range(len(sorted_data)-1):\n",
    "            if sorted_data[i,2] != sorted_data[i+1,2]:\n",
    "                entropy_split = splitEntropy(sorted_data,sorted_data[i+1,col],col)\n",
    "                # print(\"at i = \",i,\" cut is \",sorted_data[i+1,col],\", entropy is \", entropy_split)\n",
    "                if entropy_split != 0:\n",
    "                    C.append(sorted_data[i+1,col])\n",
    "        # print(f\"for col {col}, C is {C}, len(C) is {len(C)}\")\n",
    "        if col == 0:\n",
    "            C1_len = len(C)\n",
    "    \n",
    "    # print(\"Finally, C is \", C,\", C1_len is \",C1_len)\n",
    "    return C,C1_len"
   ]
  },
  {
   "cell_type": "code",
   "execution_count": 202,
   "metadata": {},
   "outputs": [],
   "source": [
    "def FindBestSplit(D,C,C1_len):\n",
    "    best_split = C[0]\n",
    "    best_gainratio = 0\n",
    "    best_col = 0\n",
    "    for i in range(len(C)):\n",
    "        cut = C[i]\n",
    "        if i < C1_len:\n",
    "            col = 0\n",
    "        else:\n",
    "            col = 1\n",
    "        current_gainratio = GainRatio(D,cut,col)\n",
    "        if current_gainratio > best_gainratio:\n",
    "            best_split = C[i]\n",
    "            best_col = col\n",
    "            best_gainratio = current_gainratio\n",
    "    return best_split,best_col"
   ]
  },
  {
   "cell_type": "code",
   "execution_count": 203,
   "metadata": {},
   "outputs": [],
   "source": [
    "def StoppingCriteria(D,C,C1_len):\n",
    "    # print(\"Checking stopping Creteria:\")\n",
    "    met = 0 # 0 is not met, 1 is met\n",
    "    # the node is empty\n",
    "    if D.size == 0:\n",
    "        print(\"D is empty. ERROR!\")\n",
    "        met = 1\n",
    "        return met\n",
    "    # all splits have zero gain ratio (if the entropy of the split is non-zero)\n",
    "    all_zero = 1\n",
    "    C,C1_len = DetermineCandidateSplits(D,col_num=2)\n",
    "    for i in range(len(C)):\n",
    "        cut = C[i]\n",
    "        if i < C1_len:\n",
    "            col = 0\n",
    "        else:\n",
    "            col = 1\n",
    "        if GainRatio(D,cut,col) != 0:\n",
    "            all_zero = 0\n",
    "    if all_zero == 1:\n",
    "        met = 1\n",
    "        \n",
    "    # the entropy of any candidates split is zero\n",
    "    if len(C) == 0:\n",
    "        met = 1\n",
    "    # print(f\"Finished Checking Stopping Criteria, met is {met}\")\n",
    "    return met"
   ]
  },
  {
   "cell_type": "code",
   "execution_count": 204,
   "metadata": {},
   "outputs": [],
   "source": [
    "def majority_class(D):\n",
    "    labels = D[:, 2]\n",
    "    unique, counts = np.unique(labels, return_counts=True)\n",
    "    return unique[np.argmax(counts)]"
   ]
  },
  {
   "cell_type": "code",
   "execution_count": 205,
   "metadata": {},
   "outputs": [],
   "source": [
    "def MakeSubtree(D):\n",
    "    node = TreeNode()\n",
    "    C,C1_len = DetermineCandidateSplits(D,2)\n",
    "    make_leaf = StoppingCriteria(D,C,C1_len)\n",
    "    if make_leaf == 1:\n",
    "        node.is_leaf = True\n",
    "        node.label = majority_class(D)  \n",
    "        print(f\"this node {D} is made a leaf! Leaf label is {node.label}\\n\")\n",
    "        return node\n",
    "    else:\n",
    "        best_split, best_col = FindBestSplit(D, C, C1_len)\n",
    "        node.split_value = best_split\n",
    "        node.split_column = best_col\n",
    "\n",
    "        left_data = D[D[:, best_col] < best_split]\n",
    "        right_data = D[D[:, best_col] >= best_split]\n",
    "        # print(\"at this time, we split to left and right data:\")\n",
    "        # print(\"Left data is: \\n\", left_data)\n",
    "        # print(\"Right data is: \\n\", right_data)\n",
    "        # print(\"\\n\")\n",
    "\n",
    "        node.left = MakeSubtree(left_data)\n",
    "        node.right = MakeSubtree(right_data)\n",
    "    return node"
   ]
  },
  {
   "cell_type": "code",
   "execution_count": 206,
   "metadata": {},
   "outputs": [
    {
     "name": "stdout",
     "output_type": "stream",
     "text": [
      "this node [[1. 1. 0.]] is made a leaf! Leaf label is 0.0\n",
      "\n",
      "this node [[10.  1.  1.]] is made a leaf! Leaf label is 1.0\n",
      "\n",
      "this node [[10.  2.  1.]\n",
      " [10.  3.  1.]\n",
      " [ 1.  3.  1.]] is made a leaf! Leaf label is 1.0\n",
      "\n"
     ]
    }
   ],
   "source": [
    "root_node = MakeSubtree(data)"
   ]
  },
  {
   "cell_type": "code",
   "execution_count": 207,
   "metadata": {},
   "outputs": [],
   "source": [
    "def gather_tree_info(node, node_counter):\n",
    "    current_node = node_counter\n",
    "    node_info = {}\n",
    "    left_info, right_info = {}, {}\n",
    "\n",
    "    if node.is_leaf:\n",
    "        node_info[current_node] = f\"Leaf Node {current_node}: Class {int(node.label)}\"\n",
    "        return node_info, node_counter\n",
    "\n",
    "    if node.left is not None:\n",
    "        left_info, node_counter = gather_tree_info(node.left, node_counter + 1)\n",
    "    \n",
    "    if node.right is not None:\n",
    "        right_info, node_counter = gather_tree_info(node.right, node_counter + 1)\n",
    "    \n",
    "    left_child = current_node + 1\n",
    "    right_child = left_child + len(left_info)\n",
    "\n",
    "    node_info[current_node] = f\"Internal Node {current_node}: If feature {node.split_column + 1} <= {node.split_value} then go to Node {left_child}, else go to Node {right_child}\"\n",
    "    node_info.update(left_info)\n",
    "    node_info.update(right_info)\n",
    "\n",
    "    return node_info, node_counter\n",
    "\n",
    "def visualize_tree(root):\n",
    "    tree_info, _ = gather_tree_info(root, 0)\n",
    "    \n",
    "    # Print nodes in order\n",
    "    for i in range(len(tree_info)):\n",
    "        print(tree_info[i])"
   ]
  },
  {
   "cell_type": "code",
   "execution_count": 208,
   "metadata": {},
   "outputs": [],
   "source": [
    "def predict_tree(node, sample):\n",
    "    \"\"\"Use the decision tree to predict a single sample.\"\"\"\n",
    "    if node.is_leaf:\n",
    "        return node.label\n",
    "    \n",
    "    if sample[node.split_column] <= node.split_value:\n",
    "        return predict_tree(node.left, sample)\n",
    "    else:\n",
    "        return predict_tree(node.right, sample)\n",
    "\n",
    "def visualize_decision_boundaries(root, X):\n",
    "    # Create a grid\n",
    "    x_min, x_max = X[:, 0].min() - 1, X[:, 0].max() + 1\n",
    "    y_min, y_max = X[:, 1].min() - 1, X[:, 1].max() + 1\n",
    "    xx, yy = np.meshgrid(np.arange(x_min, x_max, 0.1),\n",
    "                         np.arange(y_min, y_max, 0.1))\n",
    "    \n",
    "    # Predict each grid point's label\n",
    "    Z = np.apply_along_axis(lambda sample: predict_tree(root, sample), 1, np.c_[xx.ravel(), yy.ravel()])\n",
    "    Z = Z.reshape(xx.shape)\n",
    "    \n",
    "    plt.contourf(xx, yy, Z, alpha=0.4)\n",
    "    plt.scatter(X[:, 0], X[:, 1], edgecolors='k', marker='o')\n",
    "    plt.xlabel('Feature 1')\n",
    "    plt.ylabel('Feature 2')\n",
    "    plt.title('Decision Tree Classifier')\n",
    "    plt.show()"
   ]
  },
  {
   "cell_type": "code",
   "execution_count": 209,
   "metadata": {},
   "outputs": [
    {
     "data": {
      "image/png": "[encoded data removed]",
      "text/plain": [
       "<Figure size 640x480 with 1 Axes>"
      ]
     },
     "metadata": {},
     "output_type": "display_data"
    },
    {
     "name": "stdout",
     "output_type": "stream",
     "text": [
      "Internal Node 0: If feature 2 <= 2.0 then go to Node 1, else go to Node 4\n",
      "Internal Node 1: If feature 1 <= 10.0 then go to Node 2, else go to Node 3\n",
      "Leaf Node 2: Class 0\n",
      "Leaf Node 3: Class 1\n",
      "Leaf Node 4: Class 1\n"
     ]
    }
   ],
   "source": [
    "visualize_decision_boundaries(root_node, data)\n",
    "visualize_tree(root_node)"
   ]
  }
 ],
 "metadata": {
  "kernelspec": {
   "display_name": "Python 3",
   "language": "python",
   "name": "python3"
  },
  "language_info": {
   "codemirror_mode": {
    "name": "ipython",
    "version": 3
   },
   "file_extension": ".py",
   "mimetype": "text/x-python",
   "name": "python",
   "nbconvert_exporter": "python",
   "pygments_lexer": "ipython3",
   "version": "3.9.13"
  },
  "orig_nbformat": 4
 },
 "nbformat": 4,
 "nbformat_minor": 2
}
